{
 "cells": [
  {
   "cell_type": "markdown",
   "id": "83af0684-efe1-45c2-a2dd-76c7ff409e64",
   "metadata": {},
   "source": [
    "## ToDos:\n",
    "- alternate who starts the game... (make it more robus)"
   ]
  },
  {
   "cell_type": "code",
   "execution_count": 1,
   "id": "9da39664-3438-4965-aaec-a5eee7636275",
   "metadata": {},
   "outputs": [],
   "source": [
    "import itertools \n",
    "import random\n",
    "random.seed(10)\n",
    "from tictactoe import *\n",
    "import numpy as np\n",
    "import math"
   ]
  },
  {
   "cell_type": "code",
   "execution_count": 9,
   "id": "3b07d6b9-4ccd-4463-acdc-6c3ef5660edf",
   "metadata": {},
   "outputs": [],
   "source": [
    "# hyper-params\n",
    "alpha = 0.1\n",
    "gamma = 0.2\n",
    "n_episodes = 100\n",
    "\n",
    "EMPTY_FIELD = 0\n",
    "OUR_AGENT = 1\n",
    "ENEMY_OPPONENT = 2"
   ]
  },
  {
   "cell_type": "code",
   "execution_count": 3,
   "id": "bcd7c71b-b526-4e04-a978-99407b6e9a59",
   "metadata": {},
   "outputs": [],
   "source": [
    "def _flatten(nested):\n",
    "    flat = []\n",
    "    for l in nested:\n",
    "        flat.extend(l)\n",
    "    else:\n",
    "        return flat"
   ]
  },
  {
   "cell_type": "code",
   "execution_count": 4,
   "id": "d3a9d076-aef7-4cda-9f6f-40d9a6ba23f9",
   "metadata": {},
   "outputs": [],
   "source": [
    "def init_lut():\n",
    "    \"\"\"\n",
    "    0 ... empty fields\n",
    "    1 ... our AGENT's prior moves\n",
    "    2 ... OPPONENT's moves\n",
    "    \"\"\"\n",
    "    global lut\n",
    "    lut = {}\n",
    "    for state in itertools.product([0,1,2],repeat=9): \n",
    "        lut[state] = [round(random.uniform(0, 1),1) if s == 0 else None for s in state]\n",
    "        \n",
    "        # check for terminal state\n",
    "        board = [state[:3],state[3:6],state[6:9]]\n",
    "        if has_won(board, 1) or has_won(board, 2):\n",
    "            lut[state] = [0.0 if s == 0 else None for s in state]\n",
    "init_lut()\n",
    "# lut"
   ]
  },
  {
   "cell_type": "code",
   "execution_count": 5,
   "id": "61e0f596-f021-43ae-8500-4a663501c8ef",
   "metadata": {},
   "outputs": [],
   "source": [
    "def select_action(board):\n",
    "    q_i = int(np.nanargmax(lut[tuple(_flatten(board))]))\n",
    "    return (math.floor(q_i / 3), q_i % 3)\n",
    "\n",
    "# select_action(board)"
   ]
  },
  {
   "cell_type": "code",
   "execution_count": null,
   "id": "3c654ae5-1464-467f-99b2-459fce8fecf9",
   "metadata": {},
   "outputs": [],
   "source": [
    "board = init_board()"
   ]
  },
  {
   "cell_type": "code",
   "execution_count": null,
   "id": "f4c974ee-656b-4da7-9c6c-5e9d9cccb68e",
   "metadata": {},
   "outputs": [],
   "source": [
    "choose_action(board)"
   ]
  },
  {
   "cell_type": "code",
   "execution_count": null,
   "id": "7a53f5e3-768c-4f4c-afce-a571a29c2e59",
   "metadata": {},
   "outputs": [],
   "source": [
    "# initialize lut\n",
    "init_lut()\n",
    "\n",
    "for x in range(n_episodes):\n",
    "    init_board()\n",
    "    \n",
    "    # print(x)"
   ]
  },
  {
   "cell_type": "code",
   "execution_count": null,
   "id": "7e21eaed-073e-4adb-83cf-72174c15e844",
   "metadata": {},
   "outputs": [],
   "source": [
    "from tictactoe import *"
   ]
  },
  {
   "cell_type": "code",
   "execution_count": null,
   "id": "9520376f-38e2-4da2-a733-2e0e3532bc2c",
   "metadata": {},
   "outputs": [],
   "source": [
    "board = init_board()"
   ]
  },
  {
   "cell_type": "code",
   "execution_count": null,
   "id": "dab9ec0f-6f16-47ed-9a8e-05bb95160c03",
   "metadata": {},
   "outputs": [],
   "source": [
    "board"
   ]
  },
  {
   "cell_type": "code",
   "execution_count": null,
   "id": "b1308ebe-98dd-4baa-bb87-2ec4aca0031f",
   "metadata": {},
   "outputs": [],
   "source": [
    "print_board(board)"
   ]
  },
  {
   "cell_type": "code",
   "execution_count": null,
   "id": "5778a9d4-82cc-4359-a290-ab41040cf71b",
   "metadata": {},
   "outputs": [],
   "source": [
    "x = get_move(board, 0)"
   ]
  },
  {
   "cell_type": "code",
   "execution_count": null,
   "id": "c8a6c19b-558a-4599-8b26-2cdd0f486f27",
   "metadata": {},
   "outputs": [],
   "source": [
    "mark(board, 1, *x)"
   ]
  },
  {
   "cell_type": "code",
   "execution_count": null,
   "id": "3191fdb8-ea42-48bc-b185-e83cdcf0cf0f",
   "metadata": {},
   "outputs": [],
   "source": [
    "x"
   ]
  },
  {
   "cell_type": "code",
   "execution_count": null,
   "id": "08481078-1e5b-42df-af5b-a68a01666bf6",
   "metadata": {},
   "outputs": [],
   "source": [
    "get_ai_move(board, 1)"
   ]
  },
  {
   "cell_type": "markdown",
   "id": "7b2bb60e-e978-4fed-a9c5-556b5b17c73b",
   "metadata": {},
   "source": [
    "## Test Run Through\n",
    "- afterwards check if maybe you misunderstood something? how did he implement it?"
   ]
  },
  {
   "cell_type": "code",
   "execution_count": 6,
   "id": "b94db57e-f3f0-493f-8c1d-6dfd094c7b96",
   "metadata": {},
   "outputs": [],
   "source": [
    "board = init_board()"
   ]
  },
  {
   "cell_type": "code",
   "execution_count": null,
   "id": "7e403cbf-fcb7-429b-ae1e-9af9c7fa445c",
   "metadata": {},
   "outputs": [
    {
     "data": {
      "text/plain": [
       "[[0, 0, 0], [0, 0, 0], [0, 0, 0]]"
      ]
     },
     "execution_count": 20,
     "metadata": {},
     "output_type": "execute_result"
    }
   ],
   "source": [
    "board"
   ]
  },
  {
   "cell_type": "code",
   "execution_count": 13,
   "id": "4e25683c-1f98-41ec-8fbb-8684bb6bc386",
   "metadata": {},
   "outputs": [
    {
     "ename": "TypeError",
     "evalue": "'>' not supported between instances of 'NoneType' and 'NoneType'",
     "output_type": "error",
     "traceback": [
      "\u001b[0;31m---------------------------------------------------------------------------\u001b[0m",
      "\u001b[0;31mTypeError\u001b[0m                                 Traceback (most recent call last)",
      "\u001b[0;32m~/opt/anaconda3/lib/python3.9/site-packages/numpy/core/fromnumeric.py\u001b[0m in \u001b[0;36m_wrapfunc\u001b[0;34m(obj, method, *args, **kwds)\u001b[0m\n\u001b[1;32m     57\u001b[0m     \u001b[0;32mtry\u001b[0m\u001b[0;34m:\u001b[0m\u001b[0;34m\u001b[0m\u001b[0;34m\u001b[0m\u001b[0m\n\u001b[0;32m---> 58\u001b[0;31m         \u001b[0;32mreturn\u001b[0m \u001b[0mbound\u001b[0m\u001b[0;34m(\u001b[0m\u001b[0;34m*\u001b[0m\u001b[0margs\u001b[0m\u001b[0;34m,\u001b[0m \u001b[0;34m**\u001b[0m\u001b[0mkwds\u001b[0m\u001b[0;34m)\u001b[0m\u001b[0;34m\u001b[0m\u001b[0;34m\u001b[0m\u001b[0m\n\u001b[0m\u001b[1;32m     59\u001b[0m     \u001b[0;32mexcept\u001b[0m \u001b[0mTypeError\u001b[0m\u001b[0;34m:\u001b[0m\u001b[0;34m\u001b[0m\u001b[0;34m\u001b[0m\u001b[0m\n",
      "\u001b[0;31mTypeError\u001b[0m: '>' not supported between instances of 'NoneType' and 'NoneType'",
      "\nDuring handling of the above exception, another exception occurred:\n",
      "\u001b[0;31mTypeError\u001b[0m                                 Traceback (most recent call last)",
      "\u001b[0;32m/var/folders/2k/j9lvv0jd2wg0h3km_7vfzxv80000gn/T/ipykernel_3783/285330624.py\u001b[0m in \u001b[0;36m<module>\u001b[0;34m\u001b[0m\n\u001b[1;32m      1\u001b[0m \u001b[0;31m# player 1 (that is us) always starts\u001b[0m\u001b[0;34m\u001b[0m\u001b[0;34m\u001b[0m\u001b[0m\n\u001b[1;32m      2\u001b[0m \u001b[0;31m# WE MAKE A MOVE\u001b[0m\u001b[0;34m\u001b[0m\u001b[0;34m\u001b[0m\u001b[0m\n\u001b[0;32m----> 3\u001b[0;31m \u001b[0ma\u001b[0m \u001b[0;34m=\u001b[0m \u001b[0mselect_action\u001b[0m\u001b[0;34m(\u001b[0m\u001b[0mboard\u001b[0m\u001b[0;34m)\u001b[0m\u001b[0;34m\u001b[0m\u001b[0;34m\u001b[0m\u001b[0m\n\u001b[0m\u001b[1;32m      4\u001b[0m \u001b[0mmark\u001b[0m\u001b[0;34m(\u001b[0m\u001b[0mboard\u001b[0m\u001b[0;34m,\u001b[0m \u001b[0;36m1\u001b[0m\u001b[0;34m,\u001b[0m \u001b[0;34m*\u001b[0m\u001b[0ma\u001b[0m\u001b[0;34m)\u001b[0m\u001b[0;34m\u001b[0m\u001b[0;34m\u001b[0m\u001b[0m\n\u001b[1;32m      5\u001b[0m \u001b[0mprint_board\u001b[0m\u001b[0;34m(\u001b[0m\u001b[0mboard\u001b[0m\u001b[0;34m)\u001b[0m\u001b[0;34m\u001b[0m\u001b[0;34m\u001b[0m\u001b[0m\n",
      "\u001b[0;32m/var/folders/2k/j9lvv0jd2wg0h3km_7vfzxv80000gn/T/ipykernel_3783/644897387.py\u001b[0m in \u001b[0;36mselect_action\u001b[0;34m(board)\u001b[0m\n\u001b[1;32m      1\u001b[0m \u001b[0;32mdef\u001b[0m \u001b[0mselect_action\u001b[0m\u001b[0;34m(\u001b[0m\u001b[0mboard\u001b[0m\u001b[0;34m)\u001b[0m\u001b[0;34m:\u001b[0m\u001b[0;34m\u001b[0m\u001b[0;34m\u001b[0m\u001b[0m\n\u001b[0;32m----> 2\u001b[0;31m     \u001b[0mq_i\u001b[0m \u001b[0;34m=\u001b[0m \u001b[0mint\u001b[0m\u001b[0;34m(\u001b[0m\u001b[0mnp\u001b[0m\u001b[0;34m.\u001b[0m\u001b[0mnanargmax\u001b[0m\u001b[0;34m(\u001b[0m\u001b[0mlut\u001b[0m\u001b[0;34m[\u001b[0m\u001b[0mtuple\u001b[0m\u001b[0;34m(\u001b[0m\u001b[0m_flatten\u001b[0m\u001b[0;34m(\u001b[0m\u001b[0mboard\u001b[0m\u001b[0;34m)\u001b[0m\u001b[0;34m)\u001b[0m\u001b[0;34m]\u001b[0m\u001b[0;34m)\u001b[0m\u001b[0;34m)\u001b[0m\u001b[0;34m\u001b[0m\u001b[0;34m\u001b[0m\u001b[0m\n\u001b[0m\u001b[1;32m      3\u001b[0m     \u001b[0;32mreturn\u001b[0m \u001b[0;34m(\u001b[0m\u001b[0mmath\u001b[0m\u001b[0;34m.\u001b[0m\u001b[0mfloor\u001b[0m\u001b[0;34m(\u001b[0m\u001b[0mq_i\u001b[0m \u001b[0;34m/\u001b[0m \u001b[0;36m3\u001b[0m\u001b[0;34m)\u001b[0m\u001b[0;34m,\u001b[0m \u001b[0mq_i\u001b[0m \u001b[0;34m%\u001b[0m \u001b[0;36m3\u001b[0m\u001b[0;34m)\u001b[0m\u001b[0;34m\u001b[0m\u001b[0;34m\u001b[0m\u001b[0m\n\u001b[1;32m      4\u001b[0m \u001b[0;34m\u001b[0m\u001b[0m\n\u001b[1;32m      5\u001b[0m \u001b[0;31m# select_action(board)\u001b[0m\u001b[0;34m\u001b[0m\u001b[0;34m\u001b[0m\u001b[0m\n",
      "\u001b[0;32m<__array_function__ internals>\u001b[0m in \u001b[0;36mnanargmax\u001b[0;34m(*args, **kwargs)\u001b[0m\n",
      "\u001b[0;32m~/opt/anaconda3/lib/python3.9/site-packages/numpy/lib/nanfunctions.py\u001b[0m in \u001b[0;36mnanargmax\u001b[0;34m(a, axis)\u001b[0m\n\u001b[1;32m    543\u001b[0m     \"\"\"\n\u001b[1;32m    544\u001b[0m     \u001b[0ma\u001b[0m\u001b[0;34m,\u001b[0m \u001b[0mmask\u001b[0m \u001b[0;34m=\u001b[0m \u001b[0m_replace_nan\u001b[0m\u001b[0;34m(\u001b[0m\u001b[0ma\u001b[0m\u001b[0;34m,\u001b[0m \u001b[0;34m-\u001b[0m\u001b[0mnp\u001b[0m\u001b[0;34m.\u001b[0m\u001b[0minf\u001b[0m\u001b[0;34m)\u001b[0m\u001b[0;34m\u001b[0m\u001b[0;34m\u001b[0m\u001b[0m\n\u001b[0;32m--> 545\u001b[0;31m     \u001b[0mres\u001b[0m \u001b[0;34m=\u001b[0m \u001b[0mnp\u001b[0m\u001b[0;34m.\u001b[0m\u001b[0margmax\u001b[0m\u001b[0;34m(\u001b[0m\u001b[0ma\u001b[0m\u001b[0;34m,\u001b[0m \u001b[0maxis\u001b[0m\u001b[0;34m=\u001b[0m\u001b[0maxis\u001b[0m\u001b[0;34m)\u001b[0m\u001b[0;34m\u001b[0m\u001b[0;34m\u001b[0m\u001b[0m\n\u001b[0m\u001b[1;32m    546\u001b[0m     \u001b[0;32mif\u001b[0m \u001b[0mmask\u001b[0m \u001b[0;32mis\u001b[0m \u001b[0;32mnot\u001b[0m \u001b[0;32mNone\u001b[0m\u001b[0;34m:\u001b[0m\u001b[0;34m\u001b[0m\u001b[0;34m\u001b[0m\u001b[0m\n\u001b[1;32m    547\u001b[0m         \u001b[0mmask\u001b[0m \u001b[0;34m=\u001b[0m \u001b[0mnp\u001b[0m\u001b[0;34m.\u001b[0m\u001b[0mall\u001b[0m\u001b[0;34m(\u001b[0m\u001b[0mmask\u001b[0m\u001b[0;34m,\u001b[0m \u001b[0maxis\u001b[0m\u001b[0;34m=\u001b[0m\u001b[0maxis\u001b[0m\u001b[0;34m)\u001b[0m\u001b[0;34m\u001b[0m\u001b[0;34m\u001b[0m\u001b[0m\n",
      "\u001b[0;32m<__array_function__ internals>\u001b[0m in \u001b[0;36margmax\u001b[0;34m(*args, **kwargs)\u001b[0m\n",
      "\u001b[0;32m~/opt/anaconda3/lib/python3.9/site-packages/numpy/core/fromnumeric.py\u001b[0m in \u001b[0;36margmax\u001b[0;34m(a, axis, out)\u001b[0m\n\u001b[1;32m   1191\u001b[0m \u001b[0;34m\u001b[0m\u001b[0m\n\u001b[1;32m   1192\u001b[0m     \"\"\"\n\u001b[0;32m-> 1193\u001b[0;31m     \u001b[0;32mreturn\u001b[0m \u001b[0m_wrapfunc\u001b[0m\u001b[0;34m(\u001b[0m\u001b[0ma\u001b[0m\u001b[0;34m,\u001b[0m \u001b[0;34m'argmax'\u001b[0m\u001b[0;34m,\u001b[0m \u001b[0maxis\u001b[0m\u001b[0;34m=\u001b[0m\u001b[0maxis\u001b[0m\u001b[0;34m,\u001b[0m \u001b[0mout\u001b[0m\u001b[0;34m=\u001b[0m\u001b[0mout\u001b[0m\u001b[0;34m)\u001b[0m\u001b[0;34m\u001b[0m\u001b[0;34m\u001b[0m\u001b[0m\n\u001b[0m\u001b[1;32m   1194\u001b[0m \u001b[0;34m\u001b[0m\u001b[0m\n\u001b[1;32m   1195\u001b[0m \u001b[0;34m\u001b[0m\u001b[0m\n",
      "\u001b[0;32m~/opt/anaconda3/lib/python3.9/site-packages/numpy/core/fromnumeric.py\u001b[0m in \u001b[0;36m_wrapfunc\u001b[0;34m(obj, method, *args, **kwds)\u001b[0m\n\u001b[1;32m     65\u001b[0m         \u001b[0;31m# Call _wrapit from within the except clause to ensure a potential\u001b[0m\u001b[0;34m\u001b[0m\u001b[0;34m\u001b[0m\u001b[0m\n\u001b[1;32m     66\u001b[0m         \u001b[0;31m# exception has a traceback chain.\u001b[0m\u001b[0;34m\u001b[0m\u001b[0;34m\u001b[0m\u001b[0m\n\u001b[0;32m---> 67\u001b[0;31m         \u001b[0;32mreturn\u001b[0m \u001b[0m_wrapit\u001b[0m\u001b[0;34m(\u001b[0m\u001b[0mobj\u001b[0m\u001b[0;34m,\u001b[0m \u001b[0mmethod\u001b[0m\u001b[0;34m,\u001b[0m \u001b[0;34m*\u001b[0m\u001b[0margs\u001b[0m\u001b[0;34m,\u001b[0m \u001b[0;34m**\u001b[0m\u001b[0mkwds\u001b[0m\u001b[0;34m)\u001b[0m\u001b[0;34m\u001b[0m\u001b[0;34m\u001b[0m\u001b[0m\n\u001b[0m\u001b[1;32m     68\u001b[0m \u001b[0;34m\u001b[0m\u001b[0m\n\u001b[1;32m     69\u001b[0m \u001b[0;34m\u001b[0m\u001b[0m\n",
      "\u001b[0;32m~/opt/anaconda3/lib/python3.9/site-packages/numpy/core/fromnumeric.py\u001b[0m in \u001b[0;36m_wrapit\u001b[0;34m(obj, method, *args, **kwds)\u001b[0m\n\u001b[1;32m     42\u001b[0m     \u001b[0;32mexcept\u001b[0m \u001b[0mAttributeError\u001b[0m\u001b[0;34m:\u001b[0m\u001b[0;34m\u001b[0m\u001b[0;34m\u001b[0m\u001b[0m\n\u001b[1;32m     43\u001b[0m         \u001b[0mwrap\u001b[0m \u001b[0;34m=\u001b[0m \u001b[0;32mNone\u001b[0m\u001b[0;34m\u001b[0m\u001b[0;34m\u001b[0m\u001b[0m\n\u001b[0;32m---> 44\u001b[0;31m     \u001b[0mresult\u001b[0m \u001b[0;34m=\u001b[0m \u001b[0mgetattr\u001b[0m\u001b[0;34m(\u001b[0m\u001b[0masarray\u001b[0m\u001b[0;34m(\u001b[0m\u001b[0mobj\u001b[0m\u001b[0;34m)\u001b[0m\u001b[0;34m,\u001b[0m \u001b[0mmethod\u001b[0m\u001b[0;34m)\u001b[0m\u001b[0;34m(\u001b[0m\u001b[0;34m*\u001b[0m\u001b[0margs\u001b[0m\u001b[0;34m,\u001b[0m \u001b[0;34m**\u001b[0m\u001b[0mkwds\u001b[0m\u001b[0;34m)\u001b[0m\u001b[0;34m\u001b[0m\u001b[0;34m\u001b[0m\u001b[0m\n\u001b[0m\u001b[1;32m     45\u001b[0m     \u001b[0;32mif\u001b[0m \u001b[0mwrap\u001b[0m\u001b[0;34m:\u001b[0m\u001b[0;34m\u001b[0m\u001b[0;34m\u001b[0m\u001b[0m\n\u001b[1;32m     46\u001b[0m         \u001b[0;32mif\u001b[0m \u001b[0;32mnot\u001b[0m \u001b[0misinstance\u001b[0m\u001b[0;34m(\u001b[0m\u001b[0mresult\u001b[0m\u001b[0;34m,\u001b[0m \u001b[0mmu\u001b[0m\u001b[0;34m.\u001b[0m\u001b[0mndarray\u001b[0m\u001b[0;34m)\u001b[0m\u001b[0;34m:\u001b[0m\u001b[0;34m\u001b[0m\u001b[0;34m\u001b[0m\u001b[0m\n",
      "\u001b[0;31mTypeError\u001b[0m: '>' not supported between instances of 'NoneType' and 'NoneType'"
     ]
    }
   ],
   "source": [
    "# player 1 (that is us) always starts\n",
    "# WE MAKE A MOVE\n",
    "a = select_action(board)\n",
    "mark(board, 1, *a)\n",
    "print_board(board)"
   ]
  },
  {
   "cell_type": "code",
   "execution_count": 12,
   "id": "c4db454c-6b97-4295-bc44-597b86aefc84",
   "metadata": {},
   "outputs": [
    {
     "name": "stdout",
     "output_type": "stream",
     "text": [
      "\n",
      "               1   2   3\n",
      "            A  O | O | O\n",
      "              ---+---+---\n",
      "            B  . | X | X\n",
      "              ---+---+---\n",
      "            C  . | . | X\n",
      "        \n"
     ]
    }
   ],
   "source": [
    "a = get_ai_move(board, 2)\n",
    "mark(board, 2, *a)\n",
    "print_board(board)"
   ]
  },
  {
   "cell_type": "code",
   "execution_count": null,
   "id": "12127422-ad11-4f85-b419-081592a9286c",
   "metadata": {},
   "outputs": [],
   "source": [
    "# THEY MAKE A MOVE\n"
   ]
  },
  {
   "cell_type": "code",
   "execution_count": 8,
   "id": "0fa1c35d-b02d-4417-a2f0-cc0aee9ab142",
   "metadata": {},
   "outputs": [
    {
     "data": {
      "text/plain": [
       "[0.6, 0.4, 0.6, 0.2, 0.8, 0.8, 0.7, 0.2, 0.5]"
      ]
     },
     "execution_count": 8,
     "metadata": {},
     "output_type": "execute_result"
    }
   ],
   "source": [
    "lut[tuple(_flatten(board))]"
   ]
  },
  {
   "cell_type": "code",
   "execution_count": null,
   "id": "d7ea611b-7a9c-4ed8-9193-9c818aafd318",
   "metadata": {},
   "outputs": [],
   "source": []
  }
 ],
 "metadata": {
  "kernelspec": {
   "display_name": "Python 3 (ipykernel)",
   "language": "python",
   "name": "python3"
  },
  "language_info": {
   "codemirror_mode": {
    "name": "ipython",
    "version": 3
   },
   "file_extension": ".py",
   "mimetype": "text/x-python",
   "name": "python",
   "nbconvert_exporter": "python",
   "pygments_lexer": "ipython3",
   "version": "3.9.7"
  }
 },
 "nbformat": 4,
 "nbformat_minor": 5
}
