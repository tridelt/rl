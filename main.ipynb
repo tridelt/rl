{
 "cells": [
  {
   "cell_type": "markdown",
   "id": "83af0684-efe1-45c2-a2dd-76c7ff409e64",
   "metadata": {},
   "source": [
    "## ToDos:\n",
    "- alternate who starts the game... (make it more robus)"
   ]
  },
  {
   "cell_type": "code",
   "execution_count": 1,
   "id": "9da39664-3438-4965-aaec-a5eee7636275",
   "metadata": {},
   "outputs": [],
   "source": [
    "import itertools \n",
    "import random\n",
    "random.seed(10)\n",
    "from tictactoe import *\n",
    "import numpy as np\n",
    "import math"
   ]
  },
  {
   "cell_type": "code",
   "execution_count": 2,
   "id": "3b07d6b9-4ccd-4463-acdc-6c3ef5660edf",
   "metadata": {},
   "outputs": [],
   "source": [
    "# hyper-params\n",
    "alpha = 0.1\n",
    "gamma = 0.2\n",
    "n_episodes = 100\n",
    "\n",
    "EMPTY_FIELD = 0\n",
    "OUR_AGENT = 1\n",
    "ENEMY_OPPONENT = 2"
   ]
  },
  {
   "cell_type": "code",
   "execution_count": 3,
   "id": "bcd7c71b-b526-4e04-a978-99407b6e9a59",
   "metadata": {},
   "outputs": [],
   "source": [
    "def _flatten(nested):\n",
    "    flat = []\n",
    "    for l in nested:\n",
    "        flat.extend(l)\n",
    "    else:\n",
    "        return flat"
   ]
  },
  {
   "cell_type": "code",
   "execution_count": 4,
   "id": "d3a9d076-aef7-4cda-9f6f-40d9a6ba23f9",
   "metadata": {},
   "outputs": [],
   "source": [
    "def init_lut():\n",
    "    \"\"\"\n",
    "    0 ... empty fields\n",
    "    1 ... our AGENT's prior moves\n",
    "    2 ... OPPONENT's moves\n",
    "    \"\"\"\n",
    "    global lut\n",
    "    lut = {}\n",
    "    for state in itertools.product([0,1,2],repeat=9): \n",
    "        lut[state] = [round(random.uniform(0, 1),1) if s == 0 else float('nan') for s in state]\n",
    "        \n",
    "        # check for terminal state\n",
    "        board = [state[:3],state[3:6],state[6:9]]\n",
    "        if has_won(board, 1) or has_won(board, 2):\n",
    "            lut[state] = [0.0 if s == 0 else float('nan') for s in state]\n",
    "init_lut()\n",
    "# lut"
   ]
  },
  {
   "cell_type": "code",
   "execution_count": 5,
   "id": "61e0f596-f021-43ae-8500-4a663501c8ef",
   "metadata": {},
   "outputs": [],
   "source": [
    "def select_action(board):\n",
    "    q_i = int(np.nanargmax(lut[tuple(_flatten(board))]))\n",
    "    return (math.floor(q_i / 3), q_i % 3)\n",
    "\n",
    "# select_action(board)"
   ]
  },
  {
   "cell_type": "code",
   "execution_count": null,
   "id": "3c654ae5-1464-467f-99b2-459fce8fecf9",
   "metadata": {},
   "outputs": [],
   "source": [
    "board = init_board()"
   ]
  },
  {
   "cell_type": "code",
   "execution_count": null,
   "id": "f4c974ee-656b-4da7-9c6c-5e9d9cccb68e",
   "metadata": {},
   "outputs": [],
   "source": [
    "choose_action(board)"
   ]
  },
  {
   "cell_type": "code",
   "execution_count": null,
   "id": "7a53f5e3-768c-4f4c-afce-a571a29c2e59",
   "metadata": {},
   "outputs": [],
   "source": [
    "# initialize lut\n",
    "init_lut()\n",
    "\n",
    "for x in range(n_episodes):\n",
    "    init_board()\n",
    "    \n",
    "    # print(x)"
   ]
  },
  {
   "cell_type": "code",
   "execution_count": null,
   "id": "7e21eaed-073e-4adb-83cf-72174c15e844",
   "metadata": {},
   "outputs": [],
   "source": [
    "from tictactoe import *"
   ]
  },
  {
   "cell_type": "code",
   "execution_count": null,
   "id": "9520376f-38e2-4da2-a733-2e0e3532bc2c",
   "metadata": {},
   "outputs": [],
   "source": [
    "board = init_board()"
   ]
  },
  {
   "cell_type": "code",
   "execution_count": null,
   "id": "dab9ec0f-6f16-47ed-9a8e-05bb95160c03",
   "metadata": {},
   "outputs": [],
   "source": [
    "board"
   ]
  },
  {
   "cell_type": "code",
   "execution_count": null,
   "id": "b1308ebe-98dd-4baa-bb87-2ec4aca0031f",
   "metadata": {},
   "outputs": [],
   "source": [
    "print_board(board)"
   ]
  },
  {
   "cell_type": "code",
   "execution_count": null,
   "id": "5778a9d4-82cc-4359-a290-ab41040cf71b",
   "metadata": {},
   "outputs": [],
   "source": [
    "x = get_move(board, 0)"
   ]
  },
  {
   "cell_type": "code",
   "execution_count": null,
   "id": "c8a6c19b-558a-4599-8b26-2cdd0f486f27",
   "metadata": {},
   "outputs": [],
   "source": [
    "mark(board, 1, *x)"
   ]
  },
  {
   "cell_type": "code",
   "execution_count": null,
   "id": "3191fdb8-ea42-48bc-b185-e83cdcf0cf0f",
   "metadata": {},
   "outputs": [],
   "source": [
    "x"
   ]
  },
  {
   "cell_type": "code",
   "execution_count": null,
   "id": "08481078-1e5b-42df-af5b-a68a01666bf6",
   "metadata": {},
   "outputs": [],
   "source": [
    "get_ai_move(board, 1)"
   ]
  },
  {
   "cell_type": "markdown",
   "id": "7b2bb60e-e978-4fed-a9c5-556b5b17c73b",
   "metadata": {},
   "source": [
    "## Test Run Through\n",
    "- afterwards check if maybe you misunderstood something? how did he implement it?"
   ]
  },
  {
   "cell_type": "code",
   "execution_count": null,
   "id": "b94db57e-f3f0-493f-8c1d-6dfd094c7b96",
   "metadata": {},
   "outputs": [],
   "source": [
    "board = init_board()"
   ]
  },
  {
   "cell_type": "code",
   "execution_count": null,
   "id": "7e403cbf-fcb7-429b-ae1e-9af9c7fa445c",
   "metadata": {},
   "outputs": [],
   "source": [
    "board"
   ]
  },
  {
   "cell_type": "code",
   "execution_count": null,
   "id": "401922e3-61c1-4644-bddd-b7a3c779713e",
   "metadata": {},
   "outputs": [],
   "source": [
    "np.nanargmax(lut[tuple(_flatten(board))])"
   ]
  },
  {
   "cell_type": "code",
   "execution_count": null,
   "id": "21c5e839-a830-456b-b3c7-9662bebe7a31",
   "metadata": {},
   "outputs": [],
   "source": [
    "lut[tuple(_flatten(board))]"
   ]
  },
  {
   "cell_type": "code",
   "execution_count": null,
   "id": "4e25683c-1f98-41ec-8fbb-8684bb6bc386",
   "metadata": {},
   "outputs": [],
   "source": [
    "# player 1 (that is us) always starts\n",
    "# WE MAKE A MOVE\n",
    "a = select_action(board)\n",
    "mark(board, 1, *a)\n",
    "print_board(board)"
   ]
  },
  {
   "cell_type": "code",
   "execution_count": null,
   "id": "c4db454c-6b97-4295-bc44-597b86aefc84",
   "metadata": {},
   "outputs": [],
   "source": [
    "a = get_ai_move(board, 2)\n",
    "mark(board, 2, *a)\n",
    "print_board(board)"
   ]
  },
  {
   "cell_type": "code",
   "execution_count": null,
   "id": "12127422-ad11-4f85-b419-081592a9286c",
   "metadata": {},
   "outputs": [],
   "source": [
    "# THEY MAKE A MOVE\n"
   ]
  },
  {
   "cell_type": "code",
   "execution_count": null,
   "id": "0fa1c35d-b02d-4417-a2f0-cc0aee9ab142",
   "metadata": {},
   "outputs": [],
   "source": [
    "lut[tuple(_flatten(board))]"
   ]
  },
  {
   "cell_type": "code",
   "execution_count": 17,
   "id": "d7ea611b-7a9c-4ed8-9193-9c818aafd318",
   "metadata": {},
   "outputs": [
    {
     "name": "stdout",
     "output_type": "stream",
     "text": [
      "agent_wins: 0\n",
      "opponents_wins: 92\n",
      "draw: 8\n"
     ]
    }
   ],
   "source": [
    "agent_wins = 0\n",
    "opponents_wins = 0\n",
    "draw = 0\n",
    "\n",
    "for _ in range(n_episodes):\n",
    "    board = init_board()\n",
    "    while not has_won(board, 1) and not has_won(board, 2) and not is_full(board):\n",
    "        agent_move = select_action(board)\n",
    "        mark(board, 1, *agent_move)\n",
    "        if not has_won(board, 1) and not is_full(board):\n",
    "            row, col = get_ai_move(board, 2)\n",
    "            mark(board, 2, row, col)\n",
    "\n",
    "    if has_won(board, 1):\n",
    "        agent_wins += 1\n",
    "    elif has_won(board, 2):\n",
    "        opponents_wins += 1\n",
    "    else:\n",
    "        draw += 1\n",
    "\n",
    "\n",
    "print(f'agent_wins: {agent_wins}')\n",
    "print(f'opponents_wins: {opponents_wins}')\n",
    "print(f'draw: {draw}')"
   ]
  },
  {
   "cell_type": "code",
   "execution_count": null,
   "id": "8c416fbf-8f1f-4af2-b0e6-46742da25347",
   "metadata": {},
   "outputs": [],
   "source": []
  }
 ],
 "metadata": {
  "kernelspec": {
   "display_name": "Python 3 (ipykernel)",
   "language": "python",
   "name": "python3"
  },
  "language_info": {
   "codemirror_mode": {
    "name": "ipython",
    "version": 3
   },
   "file_extension": ".py",
   "mimetype": "text/x-python",
   "name": "python",
   "nbconvert_exporter": "python",
   "pygments_lexer": "ipython3",
   "version": "3.9.7"
  }
 },
 "nbformat": 4,
 "nbformat_minor": 5
}
