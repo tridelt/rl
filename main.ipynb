{
 "cells": [
  {
   "cell_type": "markdown",
   "id": "83af0684-efe1-45c2-a2dd-76c7ff409e64",
   "metadata": {},
   "source": [
    "## ToDos:\n",
    "- alternate who starts the game... (make it more robus)"
   ]
  },
  {
   "cell_type": "code",
   "execution_count": null,
   "id": "9da39664-3438-4965-aaec-a5eee7636275",
   "metadata": {},
   "outputs": [],
   "source": [
    "import itertools \n",
    "import random\n",
    "random.seed(10)\n",
    "from tictactoe import *\n",
    "import numpy as np\n",
    "import math\n",
    "import copy"
   ]
  },
  {
   "cell_type": "code",
   "execution_count": null,
   "id": "3b07d6b9-4ccd-4463-acdc-6c3ef5660edf",
   "metadata": {},
   "outputs": [],
   "source": [
    "# hyper-params\n",
    "lr = 0.1\n",
    "discount = 0.8\n",
    "n_episodes = 1000\n",
    "\n",
    "EMPTY_FIELD = 0\n",
    "OUR_AGENT = 1\n",
    "ENEMY_OPPONENT = 2"
   ]
  },
  {
   "cell_type": "code",
   "execution_count": null,
   "id": "bcd7c71b-b526-4e04-a978-99407b6e9a59",
   "metadata": {},
   "outputs": [],
   "source": [
    "def _flatten(nested):\n",
    "    flat = []\n",
    "    for l in nested:\n",
    "        flat.extend(l)\n",
    "    else:\n",
    "        return flat"
   ]
  },
  {
   "cell_type": "code",
   "execution_count": null,
   "id": "d3a9d076-aef7-4cda-9f6f-40d9a6ba23f9",
   "metadata": {},
   "outputs": [],
   "source": [
    "def init_lut():\n",
    "    \"\"\"\n",
    "    0 ... empty fields\n",
    "    1 ... our AGENT's prior moves\n",
    "    2 ... OPPONENT's moves\n",
    "    \"\"\"\n",
    "    global lut\n",
    "    lut = {}\n",
    "    for state in itertools.product([0,1,2],repeat=9): \n",
    "        lut[state] = [round(random.uniform(0, 1),1) if s == 0 else float('nan') for s in state]\n",
    "        \n",
    "        # check for terminal state\n",
    "        board = [state[:3],state[3:6],state[6:9]]\n",
    "        if has_won(board, 1) or has_won(board, 2):\n",
    "            lut[state] = [0.0 if s == 0 else float('nan') for s in state]"
   ]
  },
  {
   "cell_type": "code",
   "execution_count": null,
   "id": "61e0f596-f021-43ae-8500-4a663501c8ef",
   "metadata": {},
   "outputs": [],
   "source": [
    "def select_action(board, get_q=False):\n",
    "    if get_q:\n",
    "        return np.nanmax(lut[tuple(_flatten(board))])\n",
    "    else:\n",
    "        q_i = int(np.nanargmax(lut[tuple(_flatten(board))]))\n",
    "        return (math.floor(q_i / 3), q_i % 3)"
   ]
  },
  {
   "cell_type": "code",
   "execution_count": null,
   "id": "39d8b48d-c0be-4348-9ca3-3ba34a5114ed",
   "metadata": {},
   "outputs": [],
   "source": [
    "def convert_action_to_index(action):\n",
    "    return action[0]*3 + action[1]"
   ]
  },
  {
   "cell_type": "code",
   "execution_count": null,
   "id": "eff46f54-268b-468b-8e31-5074d330291a",
   "metadata": {},
   "outputs": [],
   "source": [
    "def update_lut(board, action, value):\n",
    "    q_i = convert_action_to_index(action)\n",
    "    lut[tuple(_flatten(board))][q_i] = value"
   ]
  },
  {
   "cell_type": "code",
   "execution_count": null,
   "id": "68e118e4-2d6e-43a8-8983-47804241739f",
   "metadata": {},
   "outputs": [],
   "source": [
    "# initialize the lut\n",
    "init_lut()"
   ]
  },
  {
   "cell_type": "markdown",
   "id": "d17e8139-927a-42a9-b64a-0b1a4de50c82",
   "metadata": {
    "jp-MarkdownHeadingCollapsed": true,
    "tags": []
   },
   "source": [
    "# Train Loop\n",
    "- maybe show cool grpahic how over time the percentage of who is winning gradually changes"
   ]
  },
  {
   "cell_type": "code",
   "execution_count": null,
   "id": "bf34c52a-1111-4a09-9287-7780ccf559b0",
   "metadata": {},
   "outputs": [],
   "source": [
    "# run for n of episodes\n",
    "for e in range(n_episodes):\n",
    "    \n",
    "    # one episode\n",
    "    state_0 = init_board()\n",
    "    state_1 = copy.deepcopy(state_0)\n",
    "    action_0 = select_action(state_0)\n",
    "    action_1 = copy.deepcopy(action_0)\n",
    "    while not has_won(state_0, 1) and not has_won(state_0, 2) and not is_full(state_0):\n",
    "        r = 0\n",
    "        \n",
    "        # our agent performs move (can lead to reaching final state) (watch out what state we are in here!)\n",
    "        mark(state_1, 1, *action_0)\n",
    "        if has_won(state_1, 1):\n",
    "            r = 3\n",
    "        elif is_full(state_1):\n",
    "            r = 2\n",
    "        else:\n",
    "            # environment react to it (can ALSO lead to reaching final state)\n",
    "            row, col = get_ai_move(state_1, 2)\n",
    "            mark(state_1, 2, row, col)\n",
    "            if has_won(state_1, 2):\n",
    "                r = -3\n",
    "            elif is_full(state_1):\n",
    "                r = 2\n",
    "            else:\n",
    "                # choose A' from S'\n",
    "                action_1 = select_action(state_1)\n",
    "            \n",
    "        # update for ONE particular state ONE action [ Q(S',A') should be 0 if terminal! ]\n",
    "        if has_won(state_1, 1) or has_won(state_1, 2) or is_full(state_1):\n",
    "            q_new = select_action(state_0, get_q=True) + lr * (r + discount * 0 - select_action(state_0, get_q=True))\n",
    "        else:\n",
    "            q_new = select_action(state_0, get_q=True) + lr * (r + discount * select_action(state_1, get_q=True) - select_action(state_0, get_q=True))\n",
    "\n",
    "        update_lut(state_0, action_0, q_new)\n",
    "        \n",
    "        # prep for next round\n",
    "        state_0 = copy.deepcopy(state_1)\n",
    "        action_0 = copy.deepcopy(action_1)\n",
    "        \n",
    "        if has_won(state_1, 1) or has_won(state_1, 2) or is_full(state_1):\n",
    "            break\n",
    "    # break"
   ]
  },
  {
   "cell_type": "markdown",
   "id": "7b2bb60e-e978-4fed-a9c5-556b5b17c73b",
   "metadata": {
    "tags": []
   },
   "source": [
    "## Test Run Through\n",
    "- afterwards check if maybe you misunderstood something? how did he implement it?"
   ]
  },
  {
   "cell_type": "code",
   "execution_count": null,
   "id": "d7ea611b-7a9c-4ed8-9193-9c818aafd318",
   "metadata": {},
   "outputs": [],
   "source": [
    "agent_wins = 0\n",
    "opponents_wins = 0\n",
    "draw = 0\n",
    "\n",
    "for _ in range(n_episodes):\n",
    "    board = init_board()\n",
    "    while not has_won(board, 1) and not has_won(board, 2) and not is_full(board):\n",
    "        agent_move = select_action(board)\n",
    "        mark(board, 1, *agent_move)\n",
    "        if not has_won(board, 1) and not is_full(board):\n",
    "            row, col = get_ai_move(board, 2)\n",
    "            mark(board, 2, row, col)\n",
    "\n",
    "    if has_won(board, 1):\n",
    "        agent_wins += 1\n",
    "    elif has_won(board, 2):\n",
    "        opponents_wins += 1\n",
    "    else:\n",
    "        draw += 1\n",
    "\n",
    "\n",
    "print(f'agent_wins: {agent_wins}')\n",
    "print(f'opponents_wins: {opponents_wins}')\n",
    "print(f'draw: {draw}')"
   ]
  }
 ],
 "metadata": {
  "kernelspec": {
   "display_name": "Python 3 (ipykernel)",
   "language": "python",
   "name": "python3"
  },
  "language_info": {
   "codemirror_mode": {
    "name": "ipython",
    "version": 3
   },
   "file_extension": ".py",
   "mimetype": "text/x-python",
   "name": "python",
   "nbconvert_exporter": "python",
   "pygments_lexer": "ipython3",
   "version": "3.9.7"
  }
 },
 "nbformat": 4,
 "nbformat_minor": 5
}
